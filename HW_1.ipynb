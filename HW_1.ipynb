{
 "cells": [
  {
   "cell_type": "code",
   "execution_count": null,
   "id": "ba529755",
   "metadata": {},
   "outputs": [],
   "source": [
    "#Условие:\n",
    "#Из колоды в 52 карты извлекаются случайным образом 4 карты. a) Найти вероятность того, что все карты – крести. \n",
    "#б) Найти вероятность, что среди 4-х карт окажется хотя бы один туз."
   ]
  },
  {
   "cell_type": "code",
   "execution_count": null,
   "id": "136485e7",
   "metadata": {},
   "outputs": [],
   "source": [
    "# Найдем количество карт крестовой масти\n",
    "T=52/4"
   ]
  },
  {
   "cell_type": "code",
   "execution_count": null,
   "id": "aa55936b",
   "metadata": {},
   "outputs": [],
   "source": [
    "# Вероятность равна\n",
    "P=n/m\n",
    "n - благоприятный исход\n",
    "m - общее количество"
   ]
  },
  {
   "cell_type": "code",
   "execution_count": 3,
   "id": "c79aa8ad",
   "metadata": {},
   "outputs": [
    {
     "name": "stdout",
     "output_type": "stream",
     "text": [
      "0.0026410564225690276\n"
     ]
    }
   ],
   "source": [
    "# Вероятность достать одну карту крести равна\n",
    "P1 = 13/52\n",
    "# Вероятность достать еще одну карту крести равна\n",
    "P2 = 12/51\n",
    "# Вероятность достать еще одну карту крести равна\n",
    "P3 = 11/50\n",
    "# Вероятность достать еще одну карту крести равна\n",
    "P4 = 10/49\n",
    "# Найдем вероятность этих совместных событий\n",
    "P = P1 * P2 * P3 * P4\n",
    "# Ответ:\n",
    "print(P)"
   ]
  },
  {
   "cell_type": "code",
   "execution_count": 6,
   "id": "4de58917",
   "metadata": {},
   "outputs": [
    {
     "name": "stdout",
     "output_type": "stream",
     "text": [
      "270725.0\n"
     ]
    }
   ],
   "source": [
    "from math import factorial\n",
    "def combinations(n, k):\n",
    "    return factorial(n) / (factorial(k) * factorial(n - k))\n",
    "#Находим m\n",
    "m = combinations(52, 4)\n",
    "print(m)"
   ]
  },
  {
   "cell_type": "code",
   "execution_count": 7,
   "id": "613c4df2",
   "metadata": {},
   "outputs": [
    {
     "name": "stdout",
     "output_type": "stream",
     "text": [
      "194580.0\n"
     ]
    }
   ],
   "source": [
    "#Находим n неблагоприятных исходов, где из 4х карт нет ни одного туза\n",
    "n = combinations(48, 4)\n",
    "print(n)"
   ]
  },
  {
   "cell_type": "code",
   "execution_count": 9,
   "id": "9882379d",
   "metadata": {},
   "outputs": [
    {
     "name": "stdout",
     "output_type": "stream",
     "text": [
      "0.2812632745405854\n"
     ]
    }
   ],
   "source": [
    "#Ответ:\n",
    "Pb = 1-n/m\n",
    "print(Pb)"
   ]
  },
  {
   "cell_type": "code",
   "execution_count": null,
   "id": "429886bb",
   "metadata": {},
   "outputs": [],
   "source": [
    "# На входной двери подъезда установлен кодовый замок, содержащий десять кнопок с цифрами от 0 до 9. \n",
    "# Код содержит три цифры, которые нужно нажать одновременно. \n",
    "# Какова вероятность того, что человек, не знающий код, откроет дверь с первой попытки?"
   ]
  },
  {
   "cell_type": "code",
   "execution_count": 10,
   "id": "7850b335",
   "metadata": {},
   "outputs": [
    {
     "name": "stdout",
     "output_type": "stream",
     "text": [
      "0.008333333333333333\n"
     ]
    }
   ],
   "source": [
    "P_num = 1/combinations(10, 3)\n",
    "print(P_num)"
   ]
  },
  {
   "cell_type": "code",
   "execution_count": 16,
   "id": "0f3c7294",
   "metadata": {},
   "outputs": [
    {
     "name": "stdout",
     "output_type": "stream",
     "text": [
      "455.0\n"
     ]
    }
   ],
   "source": [
    "# В ящике имеется 15 деталей, из которых 9 окрашены. \n",
    "# Рабочий случайным образом извлекает 3 детали. \n",
    "# Какова вероятность того, что все извлеченные детали окрашены?\n",
    "m1 = combinations(15, 3)\n",
    "print(m1)"
   ]
  },
  {
   "cell_type": "code",
   "execution_count": 15,
   "id": "a2158424",
   "metadata": {},
   "outputs": [
    {
     "name": "stdout",
     "output_type": "stream",
     "text": [
      "20.0\n"
     ]
    }
   ],
   "source": [
    "#Находим n неблагоприятных исходов, где из 3х деталей нет окрашенной\n",
    "n1 = combinations(6, 3)\n",
    "print(n1)"
   ]
  },
  {
   "cell_type": "code",
   "execution_count": 17,
   "id": "ae8cef9c",
   "metadata": {},
   "outputs": [
    {
     "name": "stdout",
     "output_type": "stream",
     "text": [
      "0.9560439560439561\n"
     ]
    }
   ],
   "source": [
    "#Ответ:\n",
    "P3 = 1-n1/m1\n",
    "print(P3)"
   ]
  },
  {
   "cell_type": "code",
   "execution_count": null,
   "id": "03aae9fc",
   "metadata": {},
   "outputs": [],
   "source": [
    "# В лотерее 100 билетов. Из них 2 выигрышных. \n",
    "# Какова вероятность того, что 2 приобретенных билета окажутся выигрышными?\n"
   ]
  },
  {
   "cell_type": "code",
   "execution_count": 11,
   "id": "227443d7",
   "metadata": {},
   "outputs": [
    {
     "name": "stdout",
     "output_type": "stream",
     "text": [
      "0.00010101010101010102\n"
     ]
    }
   ],
   "source": [
    "# Вероятность совместных событий\n",
    "P = (1/100) * (1/99)\n",
    "print(P)"
   ]
  },
  {
   "cell_type": "code",
   "execution_count": null,
   "id": "b4c581c9",
   "metadata": {},
   "outputs": [],
   "source": []
  }
 ],
 "metadata": {
  "kernelspec": {
   "display_name": "Python 3 (ipykernel)",
   "language": "python",
   "name": "python3"
  },
  "language_info": {
   "codemirror_mode": {
    "name": "ipython",
    "version": 3
   },
   "file_extension": ".py",
   "mimetype": "text/x-python",
   "name": "python",
   "nbconvert_exporter": "python",
   "pygments_lexer": "ipython3",
   "version": "3.9.13"
  }
 },
 "nbformat": 4,
 "nbformat_minor": 5
}
