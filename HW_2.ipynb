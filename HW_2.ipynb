{
 "cells": [
  {
   "cell_type": "code",
   "execution_count": 1,
   "id": "3b843e72",
   "metadata": {},
   "outputs": [
    {
     "name": "stdout",
     "output_type": "stream",
     "text": [
      "0.048061793700746556\n"
     ]
    }
   ],
   "source": [
    "# Вероятность того, что стрелок попадет в мишень, выстрелив один раз, равна 0.8. \n",
    "# Стрелок выстрелил 100 раз. Найдите вероятность того, что стрелок попадет в цель ровно 85 раз.\n",
    "# P(X=k) = C_n ^k * p^k * q^(n-k)\n",
    "k = 85\n",
    "q = (0.2)**15\n",
    "p = 0.8**85\n",
    "\n",
    "from math import factorial\n",
    "def combinations(n, k):\n",
    "    return factorial(n) / (factorial(k) * factorial(n - k))\n",
    "C_85 = combinations(100, 85)\n",
    "\n",
    "P_1 = C_85 * p * q\n",
    "print(P_1)"
   ]
  },
  {
   "cell_type": "code",
   "execution_count": 3,
   "id": "f58927c8",
   "metadata": {},
   "outputs": [
    {
     "name": "stdout",
     "output_type": "stream",
     "text": [
      "0.1353352832366127\n"
     ]
    }
   ],
   "source": [
    "# Вероятность того, что лампочка перегорит в течение первого дня эксплуатации, равна 0.0004. \n",
    "# В жилом комплексе после ремонта в один день включили 5000 новых лампочек. \n",
    "# Какова вероятность, что ни одна из них не перегорит в первый день? \n",
    "# Какова вероятность, что перегорят ровно две?\n",
    "import math\n",
    "lam_bda = 0.0004 * 5000\n",
    "# Ни одна не перегорит\n",
    "Pm = ((lam_bda**0)/factorial(0)) * math.exp(-lam_bda)\n",
    "print(Pm)"
   ]
  },
  {
   "cell_type": "code",
   "execution_count": 4,
   "id": "0134e38b",
   "metadata": {},
   "outputs": [
    {
     "name": "stdout",
     "output_type": "stream",
     "text": [
      "0.2706705664732254\n"
     ]
    }
   ],
   "source": [
    "# Перегорят 2 лампочки\n",
    "P_2 = ((lam_bda**2)/factorial(2)) * math.exp(-lam_bda)\n",
    "print(P_2)"
   ]
  },
  {
   "cell_type": "code",
   "execution_count": 7,
   "id": "28af29c2",
   "metadata": {},
   "outputs": [
    {
     "name": "stdout",
     "output_type": "stream",
     "text": [
      "0.06281178035144776\n"
     ]
    }
   ],
   "source": [
    "# Монету подбросили 144 раза. Какова вероятность, что орел выпадет ровно 70 раз?\n",
    "# P(X=k) = C_n ^k * p^k * q^(n-k)\n",
    "k = 70\n",
    "q = (0.5)**74\n",
    "p = 0.5**70\n",
    "\n",
    "from math import factorial\n",
    "def combinations(n, k):\n",
    "    return factorial(n) / (factorial(k) * factorial(n - k))\n",
    "C_70 = combinations(144, 70)\n",
    "\n",
    "P_3 = C_70 * p * q\n",
    "print(P_3)"
   ]
  },
  {
   "cell_type": "code",
   "execution_count": 9,
   "id": "6e49f254",
   "metadata": {},
   "outputs": [
    {
     "name": "stdout",
     "output_type": "stream",
     "text": [
      "0.3054545454545454\n",
      "0.20484848484848484\n",
      "0.9987878787878788\n"
     ]
    }
   ],
   "source": [
    "# В первом ящике находится 10 мячей, из которых 7 - белые. Во втором ящике - 11 мячей, из которых 9 белых. \n",
    "# Из каждого ящика вытаскивают случайным образом по два мяча. Какова вероятность того, что все мячи белые? \n",
    "# Какова вероятность того, что ровно два мяча белые? Какова вероятность того, что хотя бы один мяч белый?\n",
    "# а) Вероятность совместных событий\n",
    "P1 = (7/10) * (6/9) * (9/11) * (8/10)\n",
    "print(P1)\n",
    "# б) Вероятность совместных событий, где 2 мяча белых и 2 небелых\n",
    "P2 = ((7/10) * (6/9) * (2/11) * (1/10)) + 4 * ((7/10) * (3/9) * (9/11) * (2/10)) + ((3/10) * (2/9) * (9/11) * (8/10))\n",
    "print(P2)\n",
    "# в) 1 мяч белый и 3 небелых\n",
    "# Находим вероятность того, что белых мячей не вытащили\n",
    "P3 = (3/10) * (2/9) * (2/11) * (1/10)\n",
    "# Находим обратную вероятность\n",
    "P4 = 1 - P3\n",
    "print(P4)"
   ]
  }
 ],
 "metadata": {
  "kernelspec": {
   "display_name": "Python 3 (ipykernel)",
   "language": "python",
   "name": "python3"
  },
  "language_info": {
   "codemirror_mode": {
    "name": "ipython",
    "version": 3
   },
   "file_extension": ".py",
   "mimetype": "text/x-python",
   "name": "python",
   "nbconvert_exporter": "python",
   "pygments_lexer": "ipython3",
   "version": "3.9.13"
  }
 },
 "nbformat": 4,
 "nbformat_minor": 5
}
