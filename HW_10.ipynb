{
 "cells": [
  {
   "cell_type": "code",
   "execution_count": null,
   "id": "d75ce359",
   "metadata": {},
   "outputs": [],
   "source": [
    "# Провести дисперсионный анализ для определения того, есть ли различия среднего роста среди взрослых футболистов, \n",
    "# хоккеистов и штангистов. Даны значения роста в трех группах случайно выбранных спортсменов: \n",
    "# Футболисты: 173, 175, 180, 178, 177, 185, 183, 182. \n",
    "# Хоккеисты: 177, 179, 180, 188, 177, 172, 171, 184, 180. \n",
    "# Штангисты: 172, 173, 169, 177, 166, 180, 178, 177, 172, 166, 170."
   ]
  },
  {
   "cell_type": "code",
   "execution_count": null,
   "id": "870629aa",
   "metadata": {},
   "outputs": [],
   "source": [
    "# Сформулируем нулевую гипотезу:\n",
    "# H0: μ = μ0 = μ1\n",
    "\n",
    "# Альтернативная гипотеза:\n",
    "# H1: μ ≠ μ0 ≠ μ1"
   ]
  },
  {
   "cell_type": "code",
   "execution_count": 4,
   "id": "5fa59998",
   "metadata": {},
   "outputs": [
    {
     "data": {
      "text/plain": [
       "F_onewayResult(statistic=5.500053450812596, pvalue=0.010482206918698694)"
      ]
     },
     "execution_count": 4,
     "metadata": {},
     "output_type": "execute_result"
    }
   ],
   "source": [
    "import numpy as np\n",
    "import pandas as pd\n",
    "from scipy import stats\n",
    "\n",
    "football = np.array([173, 175, 180, 178, 177, 185, 183, 182])\n",
    "hockey = np.array([177, 179, 180, 188, 177, 172, 171, 184, 180])\n",
    "weightlifting = np.array([172, 173, 169, 177, 166, 180, 178, 177, 172, 166, 170])\n",
    "stats.f_oneway(football, hockey, weightlifting)"
   ]
  },
  {
   "cell_type": "code",
   "execution_count": null,
   "id": "7479414d",
   "metadata": {},
   "outputs": [],
   "source": [
    "# Если α = 0.05, то можно сказать, что верна альтернативная гипотеза.\n",
    "# Если α = 0.01, то можно сказать, что верна нулевая гипотеза."
   ]
  }
 ],
 "metadata": {
  "kernelspec": {
   "display_name": "Python 3 (ipykernel)",
   "language": "python",
   "name": "python3"
  },
  "language_info": {
   "codemirror_mode": {
    "name": "ipython",
    "version": 3
   },
   "file_extension": ".py",
   "mimetype": "text/x-python",
   "name": "python",
   "nbconvert_exporter": "python",
   "pygments_lexer": "ipython3",
   "version": "3.9.13"
  }
 },
 "nbformat": 4,
 "nbformat_minor": 5
}
