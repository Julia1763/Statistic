{
 "cells": [
  {
   "cell_type": "code",
   "execution_count": 1,
   "id": "eab9572a",
   "metadata": {},
   "outputs": [
    {
     "name": "stdout",
     "output_type": "stream",
     "text": [
      "500.0\n",
      "30000.0\n"
     ]
    }
   ],
   "source": [
    "# Случайная непрерывная величина A имеет равномерное распределение на промежутке (200, 800].\n",
    "# Найдите ее среднее значение и дисперсию.\n",
    "# Среднее значение:\n",
    "M = (200 + 800) / 2\n",
    "# Дисперсия:\n",
    "D = (800 - 200)**2 / 12\n",
    "print(M)\n",
    "print(D)"
   ]
  },
  {
   "cell_type": "code",
   "execution_count": 3,
   "id": "79dff63b",
   "metadata": {},
   "outputs": [
    {
     "name": "stdout",
     "output_type": "stream",
     "text": [
      "2.049193338482967\n",
      "1.2745966692414834\n"
     ]
    }
   ],
   "source": [
    "# О случайной непрерывной равномерно распределенной величине B известно, что ее дисперсия равна 0.2.\n",
    "# Можно ли найти правую границу величины B и ее среднее значение зная, что левая граница равна 0.5?\n",
    "# Если да, найдите ее.\n",
    "# 0.2 = (b - 0.5)**2 / 12 => 2.4 = (b - 0.5)**2 => sqrt(2.4) = b - 0.5 => b = sqrt(2.4) + 0.5\n",
    "b = (2.4)**(1/2) + 0.5\n",
    "# Среднее значение:\n",
    "M_2 = (0.5 + b) / 2\n",
    "print(b)\n",
    "print(M_2)"
   ]
  },
  {
   "cell_type": "code",
   "execution_count": null,
   "id": "cdc9517c",
   "metadata": {},
   "outputs": [],
   "source": [
    "# Непрерывная случайная величина X распределена нормально и задана плотностью распределения\n",
    "# f(x) = (1 / (4 * sqrt(2pi))) * exp((-(x+2)**2) / 32)\n",
    "# Найдите:\n",
    "# а). M(X)\n",
    "# б). D(X)\n",
    "# в). std(X) (среднее квадратичное отклонение)\n",
    "# Среднее значение:\n",
    "M_3 = -2\n",
    "# Дисперсия:\n",
    "D = 4**2\n",
    "# СКО\n",
    "sigm = 4"
   ]
  },
  {
   "cell_type": "code",
   "execution_count": 10,
   "id": "3bb424b5",
   "metadata": {},
   "outputs": [
    {
     "name": "stdout",
     "output_type": "stream",
     "text": [
      "-1.0\n",
      "-2.0\n",
      "-1.0\n",
      "2.0\n",
      "0.8185499999999999\n"
     ]
    }
   ],
   "source": [
    "# Рост взрослого населения города X имеет нормальное распределение.\n",
    "# Причем, средний рост равен 174 см, а среднее квадратичное отклонение равно 8 см.\n",
    "# Какова вероятность того, что случайным образом выбранный взрослый человек имеет рост:\n",
    "# а). больше 182 см\n",
    "# б). больше 190 см\n",
    "# в). от 166 см до 190 см\n",
    "# г). от 166 см до 182 см\n",
    "# д). от 158 см до 190 см\n",
    "# е). не выше 150 см или не ниже 190 см\n",
    "# ё). не выше 150 см или не ниже 198 см\n",
    "# ж). ниже 166 см.\n",
    "M_4 = 174\n",
    "sigm_4 = 8\n",
    "# a\n",
    "p_1 = (174-182)/8\n",
    "print(p_1)\n",
    "# Смотрим таблицу:\n",
    "P_1 = 0.1587\n",
    "# b\n",
    "p_2 = (174-190)/8\n",
    "print(p_2)\n",
    "# Смотрим таблицу:\n",
    "P_2 = 0.0228\n",
    "# c\n",
    "p_3 = (166 - 174)/8\n",
    "print(p_3)\n",
    "# Смотрим таблицу:\n",
    "P_3 = 0.1587\n",
    "p_4 = (190 - 174)/8\n",
    "print(p_4)\n",
    "# Смотрим таблицу:\n",
    "P_4 = 0.97725\n",
    "P_3_4 = P_4 - P_3\n",
    "print(P_3_4)\n"
   ]
  },
  {
   "cell_type": "code",
   "execution_count": 12,
   "id": "a3c23b39",
   "metadata": {},
   "outputs": [
    {
     "name": "stdout",
     "output_type": "stream",
     "text": [
      "-1.0\n",
      "1.0\n",
      "0.6826399999999999\n"
     ]
    }
   ],
   "source": [
    "# d\n",
    "p_5 = (166 - 174)/8\n",
    "print(p_5)\n",
    "# Смотрим таблицу:\n",
    "P_5 = 0.1587\n",
    "p_6 = (182 - 174)/8\n",
    "print(p_6)\n",
    "# Смотрим таблицу:\n",
    "P_6 = 0.84134\n",
    "P_5_6 = P_6 - P_5\n",
    "print(P_5_6)"
   ]
  },
  {
   "cell_type": "code",
   "execution_count": 14,
   "id": "9510c31f",
   "metadata": {},
   "outputs": [
    {
     "name": "stdout",
     "output_type": "stream",
     "text": [
      "-2.0\n",
      "2.0\n",
      "0.9544499999999999\n"
     ]
    }
   ],
   "source": [
    "# e\n",
    "p_7 = (158 - 174)/8\n",
    "print(p_7)\n",
    "# Смотрим таблицу:\n",
    "P_7 = 0.0228\n",
    "p_8 = (190 - 174)/8\n",
    "print(p_4)\n",
    "# Смотрим таблицу:\n",
    "P_8 = 0.97725\n",
    "P_7_8 = P_8 - P_7\n",
    "print(P_7_8)"
   ]
  },
  {
   "cell_type": "code",
   "execution_count": 16,
   "id": "ee26a372",
   "metadata": {},
   "outputs": [
    {
     "name": "stdout",
     "output_type": "stream",
     "text": [
      "-2.0\n",
      "-3.0\n",
      "0.0358\n"
     ]
    }
   ],
   "source": [
    "# f\n",
    "p_9 = (174-190)/8\n",
    "print(p_9)\n",
    "# Смотрим таблицу:\n",
    "P_9 = 0.0228\n",
    "p_10 = (150-174)/8\n",
    "print(p_10)\n",
    "P_10 = 0.013\n",
    "P_9_10 = P_9 + P_10\n",
    "print(P_9_10)"
   ]
  },
  {
   "cell_type": "code",
   "execution_count": 19,
   "id": "1b2d56ca",
   "metadata": {},
   "outputs": [
    {
     "name": "stdout",
     "output_type": "stream",
     "text": [
      "-3.0\n",
      "-3.0\n",
      "0.026\n"
     ]
    }
   ],
   "source": [
    "# g\n",
    "# f\n",
    "p_11 = (174-198)/8\n",
    "print(p_11)\n",
    "# Смотрим таблицу:\n",
    "P_11 = 0.013\n",
    "p_10 = (150-174)/8\n",
    "print(p_10)\n",
    "P_10 = 0.013\n",
    "P_11_10 = P_11 + P_10\n",
    "print(P_11_10)"
   ]
  },
  {
   "cell_type": "code",
   "execution_count": 21,
   "id": "ee18b1a8",
   "metadata": {},
   "outputs": [
    {
     "name": "stdout",
     "output_type": "stream",
     "text": [
      "-1.0\n"
     ]
    }
   ],
   "source": [
    "p_12 = (166-174)/8\n",
    "print(p_12)\n",
    "P_12 = 0.1587"
   ]
  },
  {
   "cell_type": "code",
   "execution_count": 22,
   "id": "edbc2588",
   "metadata": {},
   "outputs": [
    {
     "name": "stdout",
     "output_type": "stream",
     "text": [
      "2.4\n"
     ]
    }
   ],
   "source": [
    "# На сколько сигм (средних квадратичных отклонений) отклоняется рост человека, равный 190 см, от\n",
    "# математического ожидания роста в популяции, в которой M(X) = 178 см и D(X) = 25 кв.см?\n",
    "Z = (190-178)/5\n",
    "print(Z)"
   ]
  },
  {
   "cell_type": "code",
   "execution_count": null,
   "id": "6bd11e75",
   "metadata": {},
   "outputs": [],
   "source": []
  }
 ],
 "metadata": {
  "kernelspec": {
   "display_name": "Python 3 (ipykernel)",
   "language": "python",
   "name": "python3"
  },
  "language_info": {
   "codemirror_mode": {
    "name": "ipython",
    "version": 3
   },
   "file_extension": ".py",
   "mimetype": "text/x-python",
   "name": "python",
   "nbconvert_exporter": "python",
   "pygments_lexer": "ipython3",
   "version": "3.9.13"
  }
 },
 "nbformat": 4,
 "nbformat_minor": 5
}
